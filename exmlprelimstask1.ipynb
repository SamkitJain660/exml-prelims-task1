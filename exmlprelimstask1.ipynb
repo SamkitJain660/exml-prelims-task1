{
 "cells": [
  {
   "cell_type": "code",
   "execution_count": 1,
   "metadata": {},
   "outputs": [],
   "source": [
    "%reload_ext autoreload\n",
    "%autoreload 2\n",
    "%matplotlib inline"
   ]
  },
  {
   "cell_type": "code",
   "execution_count": null,
   "metadata": {},
   "outputs": [],
   "source": [
    "import tensorflow as tf\n",
    "from tensorflow.keras.preprocessing.image import ImageDataGenerator\n",
    "from tensorflow.keras import mixed_precision\n",
    "\n",
    "mixed_precision.set_global_policy('mixed_float16') # adding mixed precision for making it effecient\n",
    "\n",
    "generator = ImageDataGenerator(rescale = 1./255,\n",
    "                               validation_split = 0.20) # generating data and splitting\n",
    "\n",
    "train_set = generator.flow_from_directory('../input/exml-prelims-task-1/train/train', batch_size = 32, target_size = (200, 200),\n",
    "                                         color_mode = 'rgb', class_mode = 'binary', subset = 'training')\n",
    "\n",
    "valid_set = generator.flow_from_directory('../input/exml-prelims-task-1/train/train', batch_size = 32, target_size = (200, 200),\n",
    "                                          color_mode = 'rgb', class_mode = 'binary', subset = 'validation')"
   ]
  },
  {
   "cell_type": "code",
   "execution_count": null,
   "metadata": {},
   "outputs": [],
   "source": [
    "#Model Creation\n",
    "def create_model():\n",
    "\"\"\"\n",
    "input shape - 200, 200, 3\n",
    "input is passed to 3 convolutional layers(no particular reason for the 3 just experiments)\n",
    "convolutional layers for extracting features\n",
    "max pooling layers for extracting dominant features and they are the next step to convolutional layers\n",
    "\"\"\"\n",
    "  model = tf.keras.models.Sequential([tf.keras.layers.Conv2D(512, (3, 3), activation = 'relu', input_shape = (200, 200, 3)),\n",
    "                                      tf.keras.layers.MaxPool2D(2, 2),\n",
    "                                      tf.keras.layers.Conv2D(256, (3, 3), activation = 'relu'),\n",
    "                                      tf.keras.layers.MaxPool2D(2, 2),\n",
    "                                      tf.keras.layers.Conv2D(512, (3, 3), activation = 'relu'),\n",
    "                                      tf.keras.layers.MaxPool2D(2, 2),\n",
    "                                      tf.keras.layers.Flatten(),\n",
    "                                      tf.keras.layers.Dense(1024, activation = 'relu'),\n",
    "                                      tf.keras.layers.Dense(1, activation = 'sigmoid', dtype = 'float32')])\n",
    "  opt = tf.keras.optimizers.Adam(learning_rate=1e-4)\n",
    "  model.compile(optimizer = opt, loss = 'binary_crossentropy', metrics = 'acc')\n",
    "\n",
    "  return model\n"
   ]
  },
  {
   "cell_type": "code",
   "execution_count": null,
   "metadata": {
    "scrolled": true
   },
   "outputs": [],
   "source": [
    "model = create_model()\n",
    "model.summary()"
   ]
  },
  {
   "cell_type": "code",
   "execution_count": null,
   "metadata": {},
   "outputs": [],
   "source": [
    "#training\n",
    "history = model.fit(train_set, steps_per_epoch = 8, validation_data = valid_set, validation_steps = 8,\n",
    "                              epochs = 50, verbose = 1)"
   ]
  },
  {
   "cell_type": "code",
   "execution_count": null,
   "metadata": {},
   "outputs": [],
   "source": [
    "import matplotlib.pyplot as plt\n",
    "\n",
    "train_acc = history.history['acc']\n",
    "val_acc = history.history['val_acc']\n",
    "\n",
    "epochs = range(len(train_acc))\n",
    "\n",
    "plt.title('Training and Validation Accuracies as functions of Epochs')\n",
    "plt.plot(epochs, train_acc, 'r', label = 'Training Accuracy')\n",
    "plt.plot(epochs, val_acc, 'b', label = 'Validation Accuracy')\n",
    "plt.xlabel('Epochs')\n",
    "plt.ylabel('Accuracy')\n",
    "plt.legend()\n",
    "\n",
    "train_loss = history.history['loss']\n",
    "val_loss = history.history['val_loss']\n",
    "\n",
    "plt.figure()\n",
    "plt.title('Training and Validation Losses as functions of Epochs')\n",
    "plt.plot(epochs, train_loss, 'r', label = 'Training Loss')\n",
    "plt.plot(epochs, val_loss, 'b', label = 'Validation Loss')\n",
    "plt.xlabel('Epochs')\n",
    "plt.ylabel('Loss')\n",
    "plt.legend()"
   ]
  },
  {
   "cell_type": "code",
   "execution_count": null,
   "metadata": {
    "scrolled": true
   },
   "outputs": [],
   "source": [
    "import cv2\n",
    "import numpy as np\n",
    "import os\n",
    "\n",
    "res = {}\n",
    "tally = 0\n",
    "\n",
    "#Predicting on the whole test data for submission\n",
    "for image in os.listdir(\"../input/exml-prelims-task-1/test/test/\"):\n",
    "    print(image, tally)\n",
    "    img = cv2.imread(f\"../input/exml-prelims-task-1/test/test/{image}\")\n",
    "    img = cv2.resize(img, (200,200))\n",
    "    img = np.expand_dims(img, axis = 0)\n",
    "    res[image.replace(\".png\", \"\")] = int(model.predict(img))\n",
    "    tally += 1\n",
    "    \n",
    "print(res)\n",
    "\n",
    "\"\"\"\n",
    "# predicting on one image\n",
    "image = cv2.imread(\"../input/exml-prelims-task-1/test/test/AARqHFiREL_609529.png\")\n",
    "plt.imshow(image)\n",
    "image = cv2.resize(image, (200,200))\n",
    "image = np.expand_dims(image, axis = 0)\n",
    "model.predict(image)\n",
    "\"\"\""
   ]
  },
  {
   "cell_type": "code",
   "execution_count": null,
   "metadata": {},
   "outputs": [],
   "source": [
    "import pandas as pd\n",
    "\n",
    "#making the csv\n",
    "df = pd.DataFrame(res.items(), columns=['id', 'company'])\n",
    "df.to_csv(\"submission3.csv\", index=False)"
   ]
  }
 ],
 "metadata": {
  "kernelspec": {
   "display_name": "Python 3 (ipykernel)",
   "language": "python",
   "name": "python3"
  },
  "language_info": {
   "codemirror_mode": {
    "name": "ipython",
    "version": 3
   },
   "file_extension": ".py",
   "mimetype": "text/x-python",
   "name": "python",
   "nbconvert_exporter": "python",
   "pygments_lexer": "ipython3",
   "version": "3.10.1"
  }
 },
 "nbformat": 4,
 "nbformat_minor": 4
}
